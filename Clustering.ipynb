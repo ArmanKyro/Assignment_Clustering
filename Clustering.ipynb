{
  "nbformat": 4,
  "nbformat_minor": 0,
  "metadata": {
    "colab": {
      "provenance": []
    },
    "kernelspec": {
      "name": "python3",
      "display_name": "Python 3"
    },
    "language_info": {
      "name": "python"
    }
  },
  "cells": [
    {
      "cell_type": "code",
      "source": [
        "import pandas as pd\n",
        "from sklearn.datasets import load_iris\n",
        "from sklearn.preprocessing import StandardScaler, MinMaxScaler\n",
        "from sklearn.decomposition import PCA\n",
        "from sklearn.cluster import KMeans, AgglomerativeClustering\n",
        "from sklearn.metrics import silhouette_score, calinski_harabasz_score, davies_bouldin_score\n",
        "\n",
        "# Load Iris dataset\n",
        "iris = load_iris()\n",
        "data = iris.data\n",
        "target = iris.target\n",
        "\n",
        "# Preprocessing techniques (consider more if needed)\n",
        "preprocessing_techniques = {\n",
        "    'StandardScaler': StandardScaler().fit_transform(data),\n",
        "    'MinMaxScaler': MinMaxScaler().fit_transform(data),\n",
        "    'PCA': PCA(n_components=2).fit_transform(data)\n",
        "}\n",
        "\n",
        "# Clustering algorithms\n",
        "clustering_algorithms = {\n",
        "    'KMeans': KMeans(),\n",
        "    'Hierarchical': AgglomerativeClustering(n_clusters=3, linkage='ward')\n",
        "}\n",
        "\n",
        "# Evaluation metrics\n",
        "metrics = ['silhouette', 'calinski_harabasz', 'davies_bouldin']\n",
        "\n",
        "# Create results DataFrame\n",
        "results_df = pd.DataFrame(columns=['Preprocessing', 'Algorithm', 'Number of Clusters'] + metrics)\n",
        "\n",
        "# Iterate through preprocessing techniques, algorithms, and number of clusters\n",
        "for preprocessing, preprocessed_data in preprocessing_techniques.items():\n",
        "    for algorithm_name, algorithm in clustering_algorithms.items():\n",
        "        for num_clusters in [2, 6, 9]:\n",
        "            # Perform clustering\n",
        "            labels = algorithm.fit_predict(preprocessed_data)\n",
        "\n",
        "            # Evaluate performance\n",
        "            silhouette = silhouette_score(preprocessed_data, labels)\n",
        "            calinski_harabasz = calinski_harabasz_score(preprocessed_data, labels)\n",
        "            davies_bouldin = davies_bouldin_score(preprocessed_data, labels)\n",
        "\n",
        "            results_df = results_df.append({\n",
        "                'Preprocessing': preprocessing,\n",
        "                'Algorithm': algorithm_name,\n",
        "                'Number of Clusters': num_clusters,\n",
        "                'silhouette': silhouette,\n",
        "                'calinski_harabasz': calinski_harabasz,\n",
        "                'davies_bouldin': davies_bouldin\n",
        "            }, ignore_index=True)\n",
        "\n",
        "# Display results\n",
        "print(results_df.to_string())\n"
      ],
      "metadata": {
        "colab": {
          "base_uri": "https://localhost:8080/"
        },
        "id": "pZNacVpPr7Bl",
        "outputId": "5d74e761-b84a-42e3-e741-eed44d2742f4"
      },
      "execution_count": 12,
      "outputs": [
        {
          "output_type": "stream",
          "name": "stderr",
          "text": [
            "/usr/local/lib/python3.10/dist-packages/sklearn/cluster/_kmeans.py:870: FutureWarning: The default value of `n_init` will change from 10 to 'auto' in 1.4. Set the value of `n_init` explicitly to suppress the warning\n",
            "  warnings.warn(\n",
            "<ipython-input-12-ba99d813e141>:44: FutureWarning: The frame.append method is deprecated and will be removed from pandas in a future version. Use pandas.concat instead.\n",
            "  results_df = results_df.append({\n",
            "/usr/local/lib/python3.10/dist-packages/sklearn/cluster/_kmeans.py:870: FutureWarning: The default value of `n_init` will change from 10 to 'auto' in 1.4. Set the value of `n_init` explicitly to suppress the warning\n",
            "  warnings.warn(\n",
            "<ipython-input-12-ba99d813e141>:44: FutureWarning: The frame.append method is deprecated and will be removed from pandas in a future version. Use pandas.concat instead.\n",
            "  results_df = results_df.append({\n",
            "/usr/local/lib/python3.10/dist-packages/sklearn/cluster/_kmeans.py:870: FutureWarning: The default value of `n_init` will change from 10 to 'auto' in 1.4. Set the value of `n_init` explicitly to suppress the warning\n",
            "  warnings.warn(\n",
            "<ipython-input-12-ba99d813e141>:44: FutureWarning: The frame.append method is deprecated and will be removed from pandas in a future version. Use pandas.concat instead.\n",
            "  results_df = results_df.append({\n",
            "<ipython-input-12-ba99d813e141>:44: FutureWarning: The frame.append method is deprecated and will be removed from pandas in a future version. Use pandas.concat instead.\n",
            "  results_df = results_df.append({\n",
            "<ipython-input-12-ba99d813e141>:44: FutureWarning: The frame.append method is deprecated and will be removed from pandas in a future version. Use pandas.concat instead.\n",
            "  results_df = results_df.append({\n",
            "<ipython-input-12-ba99d813e141>:44: FutureWarning: The frame.append method is deprecated and will be removed from pandas in a future version. Use pandas.concat instead.\n",
            "  results_df = results_df.append({\n",
            "/usr/local/lib/python3.10/dist-packages/sklearn/cluster/_kmeans.py:870: FutureWarning: The default value of `n_init` will change from 10 to 'auto' in 1.4. Set the value of `n_init` explicitly to suppress the warning\n",
            "  warnings.warn(\n",
            "<ipython-input-12-ba99d813e141>:44: FutureWarning: The frame.append method is deprecated and will be removed from pandas in a future version. Use pandas.concat instead.\n",
            "  results_df = results_df.append({\n",
            "/usr/local/lib/python3.10/dist-packages/sklearn/cluster/_kmeans.py:870: FutureWarning: The default value of `n_init` will change from 10 to 'auto' in 1.4. Set the value of `n_init` explicitly to suppress the warning\n",
            "  warnings.warn(\n",
            "<ipython-input-12-ba99d813e141>:44: FutureWarning: The frame.append method is deprecated and will be removed from pandas in a future version. Use pandas.concat instead.\n",
            "  results_df = results_df.append({\n",
            "/usr/local/lib/python3.10/dist-packages/sklearn/cluster/_kmeans.py:870: FutureWarning: The default value of `n_init` will change from 10 to 'auto' in 1.4. Set the value of `n_init` explicitly to suppress the warning\n",
            "  warnings.warn(\n",
            "<ipython-input-12-ba99d813e141>:44: FutureWarning: The frame.append method is deprecated and will be removed from pandas in a future version. Use pandas.concat instead.\n",
            "  results_df = results_df.append({\n",
            "<ipython-input-12-ba99d813e141>:44: FutureWarning: The frame.append method is deprecated and will be removed from pandas in a future version. Use pandas.concat instead.\n",
            "  results_df = results_df.append({\n",
            "<ipython-input-12-ba99d813e141>:44: FutureWarning: The frame.append method is deprecated and will be removed from pandas in a future version. Use pandas.concat instead.\n",
            "  results_df = results_df.append({\n",
            "<ipython-input-12-ba99d813e141>:44: FutureWarning: The frame.append method is deprecated and will be removed from pandas in a future version. Use pandas.concat instead.\n",
            "  results_df = results_df.append({\n",
            "/usr/local/lib/python3.10/dist-packages/sklearn/cluster/_kmeans.py:870: FutureWarning: The default value of `n_init` will change from 10 to 'auto' in 1.4. Set the value of `n_init` explicitly to suppress the warning\n",
            "  warnings.warn(\n",
            "<ipython-input-12-ba99d813e141>:44: FutureWarning: The frame.append method is deprecated and will be removed from pandas in a future version. Use pandas.concat instead.\n",
            "  results_df = results_df.append({\n",
            "/usr/local/lib/python3.10/dist-packages/sklearn/cluster/_kmeans.py:870: FutureWarning: The default value of `n_init` will change from 10 to 'auto' in 1.4. Set the value of `n_init` explicitly to suppress the warning\n",
            "  warnings.warn(\n",
            "<ipython-input-12-ba99d813e141>:44: FutureWarning: The frame.append method is deprecated and will be removed from pandas in a future version. Use pandas.concat instead.\n",
            "  results_df = results_df.append({\n",
            "/usr/local/lib/python3.10/dist-packages/sklearn/cluster/_kmeans.py:870: FutureWarning: The default value of `n_init` will change from 10 to 'auto' in 1.4. Set the value of `n_init` explicitly to suppress the warning\n",
            "  warnings.warn(\n"
          ]
        },
        {
          "output_type": "stream",
          "name": "stdout",
          "text": [
            "     Preprocessing     Algorithm Number of Clusters  silhouette  calinski_harabasz  davies_bouldin\n",
            "0   StandardScaler        KMeans                  2    0.351834         171.083538        0.919696\n",
            "1   StandardScaler        KMeans                  6    0.334297         174.073089        1.009533\n",
            "2   StandardScaler        KMeans                  9    0.337567         174.191869        1.009970\n",
            "3   StandardScaler  Hierarchical                  2    0.446689         222.719164        0.803467\n",
            "4   StandardScaler  Hierarchical                  6    0.446689         222.719164        0.803467\n",
            "5   StandardScaler  Hierarchical                  9    0.446689         222.719164        0.803467\n",
            "6     MinMaxScaler        KMeans                  2    0.337311         244.098113        1.015714\n",
            "7     MinMaxScaler        KMeans                  6    0.334155         246.569434        0.996631\n",
            "8     MinMaxScaler        KMeans                  9    0.334193         245.812344        1.046025\n",
            "9     MinMaxScaler  Hierarchical                  2    0.504800         349.254185        0.747977\n",
            "10    MinMaxScaler  Hierarchical                  6    0.504800         349.254185        0.747977\n",
            "11    MinMaxScaler  Hierarchical                  9    0.504800         349.254185        0.747977\n",
            "12             PCA        KMeans                  2    0.454271         732.708183        0.681194\n",
            "13             PCA        KMeans                  6    0.443210         731.804473        0.728544\n",
            "14             PCA        KMeans                  9    0.453941         733.623183        0.690693\n",
            "15             PCA  Hierarchical                  2    0.598475         688.617548        0.560496\n",
            "16             PCA  Hierarchical                  6    0.598475         688.617548        0.560496\n",
            "17             PCA  Hierarchical                  9    0.598475         688.617548        0.560496\n"
          ]
        },
        {
          "output_type": "stream",
          "name": "stderr",
          "text": [
            "<ipython-input-12-ba99d813e141>:44: FutureWarning: The frame.append method is deprecated and will be removed from pandas in a future version. Use pandas.concat instead.\n",
            "  results_df = results_df.append({\n",
            "<ipython-input-12-ba99d813e141>:44: FutureWarning: The frame.append method is deprecated and will be removed from pandas in a future version. Use pandas.concat instead.\n",
            "  results_df = results_df.append({\n",
            "<ipython-input-12-ba99d813e141>:44: FutureWarning: The frame.append method is deprecated and will be removed from pandas in a future version. Use pandas.concat instead.\n",
            "  results_df = results_df.append({\n",
            "<ipython-input-12-ba99d813e141>:44: FutureWarning: The frame.append method is deprecated and will be removed from pandas in a future version. Use pandas.concat instead.\n",
            "  results_df = results_df.append({\n"
          ]
        }
      ]
    },
    {
      "cell_type": "code",
      "source": [],
      "metadata": {
        "id": "ZJvRZ5o5r6_v"
      },
      "execution_count": null,
      "outputs": []
    },
    {
      "cell_type": "code",
      "source": [],
      "metadata": {
        "id": "ix32SiWQr69r"
      },
      "execution_count": null,
      "outputs": []
    },
    {
      "cell_type": "code",
      "source": [],
      "metadata": {
        "id": "2uhNRO-Hr674"
      },
      "execution_count": null,
      "outputs": []
    },
    {
      "cell_type": "code",
      "source": [],
      "metadata": {
        "id": "okoTpTNZr629"
      },
      "execution_count": null,
      "outputs": []
    }
  ]
}